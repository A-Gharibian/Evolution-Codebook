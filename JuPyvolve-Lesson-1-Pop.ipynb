{
 "cells": [
  {
   "cell_type": "markdown",
   "metadata": {},
   "source": [
    "# A simple static-size population model of Wright-Fisher for educational purposes."
   ]
  },
  {
   "cell_type": "markdown",
   "metadata": {},
   "source": [
    "### Needed Libraries:\n",
    "\n",
    "\"import\" function loads a set of ready-to-use code or a library into the memory (for each tab separately).<br/>\n",
    "You can omit \"as [name]\", but you have to use the complete name of the library and the functions every time you call it later on.<br/>\n",
    "For predifined modules, functions and instances of each library, type the name of library, put a dot, and press tab to view and select available options.<br/>\n",
    "For function definitions and usage, after entering function name, press shift + tab."
   ]
  },
  {
   "cell_type": "code",
   "execution_count": 6,
   "metadata": {},
   "outputs": [
    {
     "name": "stdout",
     "output_type": "stream",
     "text": [
      "<module 'numpy' from 'C:\\\\Users\\\\aroutin-q\\\\AppData\\\\Local\\\\Continuum\\\\miniconda3\\\\lib\\\\site-packages\\\\numpy\\\\__init__.py'> was imported successfuly.\n",
      "<module 'matplotlib.pyplot' from 'C:\\\\Users\\\\aroutin-q\\\\AppData\\\\Local\\\\Continuum\\\\miniconda3\\\\lib\\\\site-packages\\\\matplotlib\\\\pyplot.py'> was imported successfuly.\n",
      "<module 'seaborn' from 'C:\\\\Users\\\\aroutin-q\\\\AppData\\\\Local\\\\Continuum\\\\miniconda3\\\\lib\\\\site-packages\\\\seaborn\\\\__init__.py'> was imported successfuly.\n"
     ]
    }
   ],
   "source": [
    "import numpy as np\n",
    "from matplotlib import pyplot as plt\n",
    "# an alternative way to write this:\n",
    "# import matplotlib.pyplot as plt\n",
    "import seaborn as sns\n",
    "# Settings for seaborn:\n",
    "sns.set(style=\"white\", palette=\"muted\", color_codes=True)\n",
    "sns.set_context(\"poster\")\n",
    "# These two reporting lines are optional:\n",
    "for i in (np, plt, sns):\n",
    "    print (i , \"was imported successfuly.\")"
   ]
  },
  {
   "cell_type": "markdown",
   "metadata": {},
   "source": [
    "## Lesson One: Producing a population\n",
    "In the next three cells, we will produce a population with a defined number (N) of elements, and then assign each one an initial Genotype.</b>\n",
    "Genotype is only a reference to the element's properties, there are no sequences in this simulation.</b>\n",
    "Genotype of one individual consists of three parameters; two variables and one integer.</b>\n",
    "\n",
    "    - The first parameter, which is fixed for now, is the initial fitness, or w, which is 1. if no mutation happens, the individual's fitness will remain 1\n",
    "        (it means that each individual in our population has the same chance of replicating, but in this lesson, no replication accures).\n",
    "        \n",
    "    - The second parameter is a user-defined variable, it is the genomic mutation rate denoted by U.\n",
    "        for this lesson, the mutation rate is an integer for simplification, the number of mutations is derived from U by a random choice.\n",
    "        \n",
    "    - The third parameter in index, which only counts individuals and assigns a placeholder for later identification of the element.\n",
    "\n",
    "There is also the population size:\n",
    "- N: Number of elements (population size)."
   ]
  },
  {
   "cell_type": "code",
   "execution_count": 29,
   "metadata": {},
   "outputs": [
    {
     "name": "stdin",
     "output_type": "stream",
     "text": [
      "Input number of genomic mutations per element per generation, 1 is one in a thousend element, 10 is one in 100 elements, and so on. 1\n",
      "Population size?: 20\n"
     ]
    },
    {
     "name": "stdout",
     "output_type": "stream",
     "text": [
      "number of mutation incidents will be:  1\n"
     ]
    }
   ],
   "source": [
    "U = int(input(\"Input number of genomic mutations per element per generation, 1 is one in a thousend element, 10 is one in 100 elements, and so on.\"))\n",
    "N = int(input(\"Population size?:\"))\n",
    "# The next function derives mutation frequency depending on the mutation rate from a poisson distribution,\n",
    "mut_num = np.random.poisson(U)\n",
    "print (\"number of mutation incidents will be: \", mut_num)"
   ]
  },
  {
   "cell_type": "markdown",
   "metadata": {},
   "source": [
    "The next function mutates initial fitness (1 in the default case), depending on number of mutations in\n",
    "one generation, if no mutation exists, it returns the initial fitness, if there are mutations, a fitness effect (s) is drawn from\n",
    "a random number between -0.1 and +0.1, and added to fitness.\n",
    "each fitness effect (depending on mut_num) is added to the current fitness, in this linear model, epistasis is not considered,\n",
    "and since our elements are haplotype genomes, mendelian inheritance is irrelevant."
   ]
  },
  {
   "cell_type": "code",
   "execution_count": 30,
   "metadata": {},
   "outputs": [],
   "source": [
    "def mutate():\n",
    "    w = 1\n",
    "    for i in range(mut_num):\n",
    "        s = (np.random.choice(100) / 1000) + (np.random.choice(100) / -1000)\n",
    "        w += s\n",
    "        return w"
   ]
  },
  {
   "cell_type": "markdown",
   "metadata": {},
   "source": [
    "For low mutation rates, the mutation number is either 0 or only 1 mutation per generation per element, thus, in this lesson, mutations rates higher than 1 per element is accepted to serve the lesson's purpose. </b>\n",
    "Exercise 1: Run this population with different parameters."
   ]
  },
  {
   "cell_type": "code",
   "execution_count": 31,
   "metadata": {},
   "outputs": [
    {
     "name": "stdout",
     "output_type": "stream",
     "text": [
      "Population : [(0.995, 0), (1.008, 1), (0.994, 2), (0.964, 3), (1.054, 4), (0.921, 5), (1.028, 6), (0.997, 7), (1.067, 8), (0.9359999999999999, 9), (0.958, 10), (0.994, 11), (1.048, 12), (0.921, 13), (0.906, 14), (0.976, 15), (1.002, 16), (1.085, 17), (0.961, 18), (0.935, 19)] : size : 20\n"
     ]
    },
    {
     "data": {
      "image/png": "[encoded data removed]",
      "text/plain": [
       "<Figure size 432x288 with 1 Axes>"
      ]
     },
     "metadata": {},
     "output_type": "display_data"
    }
   ],
   "source": [
    "Population = []\n",
    "fitnesses = []\n",
    "for i in range (N):\n",
    "    Population.append((mutate(),i))\n",
    "    fitnesses.append(mutate())\n",
    "print (\"Population :\", Population, \": size :\", N)\n",
    "plot1 = plt.plot(fitnesses)"
   ]
  }
 ],
 "metadata": {
  "kernelspec": {
   "display_name": "Python 3",
   "language": "python",
   "name": "python3"
  },
  "language_info": {
   "codemirror_mode": {
    "name": "ipython",
    "version": 3
   },
   "file_extension": ".py",
   "mimetype": "text/x-python",
   "name": "python",
   "nbconvert_exporter": "python",
   "pygments_lexer": "ipython3",
   "version": "3.7.1"
  }
 },
 "nbformat": 4,
 "nbformat_minor": 2
}
