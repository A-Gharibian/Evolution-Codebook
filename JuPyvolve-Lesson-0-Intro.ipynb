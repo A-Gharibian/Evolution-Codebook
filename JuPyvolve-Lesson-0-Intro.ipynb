{
 "cells": [
  {
   "cell_type": "markdown",
   "metadata": {},
   "source": [
    "# A simple static-size population model of Wright-Fisher for educational purposes."
   ]
  },
  {
   "cell_type": "markdown",
   "metadata": {},
   "source": [
    "### How to use:\n",
    "You need a browser, Firefox, Chrome and Safari work fine, you need to remove proxy for internal connections (use proxy only for external connections if you have it).<br />\n",
    "Microsoft Windows (7+): Download miniconda, install it, run conda activate base, conda update conda, conda install -c conda-forge jupyterlab, conda install pandas pickle numpy scipy matplotlib seaborn, run jupyter lab.<br />\n",
    "Apple macOS: Download Miniconda3-latest-MacOSX-'arch'.sh, in terminal use bash to run the installation script, type conda update conda, install needed packages (same as Windows), run jupyter notebook.<br />\n",
    "Linux (Debian-based): Download miniconda.sh and run it with bash to install conda, follow macOS instructions (you can run either lab or notebook).<br />\n",
    "Android (4.2+): https://m.youtube.com/watch?v=ORbJ21x3ulo, retrieved on April 2019.<br />\n",
    "You can use your iOS device to look for instructions on different functions in Python, Conda and Jupyter, but not to run this program, sorry.<br />\n",
    "After openning jupyter, open this file from the file browser, ctrl+enter will run each cell, clicking on a cell will activate editing it."
   ]
  },
  {
   "cell_type": "markdown",
   "metadata": {},
   "source": [
    "## Introduction and Keywords you should be familiar with:\n",
    "\n",
    "This simulation is based on the assumption that there are no particular level(s) for natural selection to act upon. The units of population are replicators, nor genes, neither individuals with different phenotypes. The fitness is assign to the replicator without considering their nature or how mutations are translated into fitness effects. </b>\n",
    "\n",
    "You should remember the meaning of the following concepts from now on: </b>\n",
    "\n",
    "- Mutation rate : Number of mutations per generation per site, if summed-up in the entire genome, it will define the global mutation rate per generation, which we use in simulation (U).\n",
    "- Fitness : defined as the contribution of an individual to the next generation retrospectively, in this simulation, it is the probability of an individual bieng picked for reproduction (w).\n",
    "- Fitness effect : The effect of a mutation on fitness, which is derived from a distribution of frequencies from -1 (deleterious), to +1, Epistatic interactions are neglected (s).\n",
    "- Average fitness and fitness distribution: The average and distribution of fitness of a given population in one generation."
   ]
  },
  {
   "cell_type": "markdown",
   "metadata": {},
   "source": [
    "Index:\n",
    "\n",
    "1. Lesson One   :   Producing a population\n",
    "2. Lesson Two   :   Replication\n",
    "3. Lesson Three :   Drift\n",
    "4. Lesson Four  :   Fixation time\n",
    "5. Lesson Five  :   Mutations and the Muller's ratchet\n",
    "6. Lesson Six   :   Selection (and fixation time)\n",
    "7. Lesson Seven :   "
   ]
  }
 ],
 "metadata": {
  "kernelspec": {
   "display_name": "Python 3",
   "language": "python",
   "name": "python3"
  },
  "language_info": {
   "codemirror_mode": {
    "name": "ipython",
    "version": 3
   },
   "file_extension": ".py",
   "mimetype": "text/x-python",
   "name": "python",
   "nbconvert_exporter": "python",
   "pygments_lexer": "ipython3",
   "version": "3.7.1"
  }
 },
 "nbformat": 4,
 "nbformat_minor": 2
}
