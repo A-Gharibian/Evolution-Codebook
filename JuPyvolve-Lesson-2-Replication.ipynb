{
 "cells": [
  {
   "cell_type": "markdown",
   "metadata": {},
   "source": [
    "# A simple static-size population model of Wright-Fisher for educational purposes."
   ]
  },
  {
   "cell_type": "markdown",
   "metadata": {},
   "source": [
    "## Lesson Two: Replication\n",
    "We will replicate the population from lesson one, without selecting against fitness (no natural selection, only random selection of each element from population).</b>\n",
    "A new way of deriving fitness effects that reflects the natural effects of mutations better than the previous simulation is also added:"
   ]
  },
  {
   "cell_type": "code",
   "execution_count": 1,
   "metadata": {},
   "outputs": [
    {
     "name": "stdout",
     "output_type": "stream",
     "text": [
      "<module 'copy' from '/home/art/miniconda3/lib/python3.7/copy.py'> was imported successfuly.\n",
      "<module 'numpy' from '/home/art/miniconda3/lib/python3.7/site-packages/numpy/__init__.py'> was imported successfuly.\n",
      "<module 'matplotlib.pyplot' from '/home/art/miniconda3/lib/python3.7/site-packages/matplotlib/pyplot.py'> was imported successfuly.\n"
     ]
    }
   ],
   "source": [
    "import copy as cp\n",
    "import numpy as np\n",
    "import matplotlib.pyplot as plt\n",
    "for i in (cp, np, plt):\n",
    "    print (i , \"was imported successfuly.\")"
   ]
  },
  {
   "cell_type": "code",
   "execution_count": 2,
   "metadata": {},
   "outputs": [
    {
     "data": {
      "image/png": "[encoded data removed]",
      "text/plain": [
       "<Figure size 432x288 with 1 Axes>"
      ]
     },
     "metadata": {
      "needs_background": "light"
     },
     "output_type": "display_data"
    }
   ],
   "source": [
    "# In this simulation, the fitness effect is derived from a distribution plotted by running this cell. Each distribution is used\n",
    "# for testing different mutational load.\n",
    "Natural = np.random.exponential(scale=1, size=1000)\n",
    "Highfit = np.random.normal(scale=1, size=1000)\n",
    "Lowfit = np.random.poisson(size=1000)\n",
    "mut_effect = np.interp(Highfit, (Highfit.min(), Highfit.max()), (-1, 1))\n",
    "# mut_effect = np.interp(Natural, (Natural.min(), Natural.max()), (-1, 1))\n",
    "# mut_effect = np.interp(Lowfit, (Lowfit.min(), Lowfit.max()), (-1, 1))\n",
    "plot=plt.hist(mut_effect, bins='auto')\n",
    "# only one of the mut_effects can be active, depending on the problem you are facing, we provided three."
   ]
  },
  {
   "cell_type": "markdown",
   "metadata": {},
   "source": [
    "This simulation needs one more variable, the number of generations you would like to replicate the population (R). Note that the population size remains constant."
   ]
  },
  {
   "cell_type": "code",
   "execution_count": 25,
   "metadata": {},
   "outputs": [],
   "source": [
    "U = 0.001\n",
    "N = 2\n",
    "R = 3\n",
    "w_init = 1\n",
    "Pop_init = []"
   ]
  },
  {
   "cell_type": "markdown",
   "metadata": {},
   "source": [
    "The next function mutates initial fitness (1 in the default case), depending on number of mutations in\n",
    "one generation, if no mutation exists,\n",
    "it returns current fitness (not the initial one), if there are mutations, a fitness effect is drawn from\n",
    "the mut_effect to determine its fitness effect,\n",
    "each fitness effect is added to the current fitness, in this linear model, epistasis is not considered,\n",
    "and since our elements are haplotype genomes,\n",
    "mendelian inheritance is irrelevant. Since fitnesses equal or lower than 0 are either dead or sterile,\n",
    "they are not mutated so that no dead element is revived."
   ]
  },
  {
   "cell_type": "code",
   "execution_count": 26,
   "metadata": {},
   "outputs": [],
   "source": [
    "init_flag = False\n",
    "# The next function derives mutation frequency depending on the mutation rate from a poisson distribution, why poisson?, lambda = U or size = U?\n",
    "# L site and N mutations, selecting N site in L is same as poisson distribution.\n",
    "def get_mut_num():\n",
    "    return np.random.poisson(U)\n",
    "\n",
    "def mutate():\n",
    "    w = w_init\n",
    "    mut_num = get_mut_num()\n",
    "    if mut_num > 0 and w > 0:\n",
    "        for i in range(mut_num):\n",
    "            s = np.random.choice(mut_effect)\n",
    "            if s == -1.:\n",
    "                w = 0.0\n",
    "            else:\n",
    "                w += s\n",
    "        return w\n",
    "    else:\n",
    "        return w\n",
    "        \n",
    "def get_next_gen():\n",
    "    if init_flag == False:\n",
    "        Population = Pop_init\n",
    "        for i in range (N):\n",
    "            Population.append(mutate())\n",
    "        print (Population)\n",
    "        init_flag == True\n",
    "        current_gen_parents = cp.deepcopy(Population)\n",
    "    else:\n",
    "        Population = []\n",
    "        for i in current_gen_parents:\n",
    "            Population.append(mutate(i))\n",
    "        print (Population)"
   ]
  },
  {
   "cell_type": "markdown",
   "metadata": {},
   "source": [
    "A -1 fitness effect means a lethal mutation, so for an element with a genotype of very high fitness, the mutation causes death, this number is arbitrary.</b>\n",
    "The next cell is the first part of the WrightFisher simulation for next lessons.</b>\n",
    "Run this population with different ranges, and different mutation rates:"
   ]
  },
  {
   "cell_type": "code",
   "execution_count": 27,
   "metadata": {},
   "outputs": [
    {
     "name": "stdout",
     "output_type": "stream",
     "text": [
      "[1, 1]\n",
      "[1, 1, 1, 1]\n",
      "[1, 1, 1, 1, 1, 1]\n"
     ]
    }
   ],
   "source": [
    "for j in range (R):\n",
    "        get_next_gen()"
   ]
  }
 ],
 "metadata": {
  "kernelspec": {
   "display_name": "Python 3",
   "language": "python",
   "name": "python3"
  },
  "language_info": {
   "codemirror_mode": {
    "name": "ipython",
    "version": 3
   },
   "file_extension": ".py",
   "mimetype": "text/x-python",
   "name": "python",
   "nbconvert_exporter": "python",
   "pygments_lexer": "ipython3",
   "version": "3.7.3"
  }
 },
 "nbformat": 4,
 "nbformat_minor": 2
}
