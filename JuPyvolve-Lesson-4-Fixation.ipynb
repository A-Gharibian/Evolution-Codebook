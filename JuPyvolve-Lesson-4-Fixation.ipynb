{
 "cells": [
  {
   "cell_type": "markdown",
   "metadata": {},
   "source": [
    "# A simple static-size population model of Wright-Fisher for educational purposes:"
   ]
  },
  {
   "cell_type": "markdown",
   "metadata": {},
   "source": [
    "## Lesson Four: Fixation time\n",
    "Kimura. </b>"
   ]
  },
  {
   "cell_type": "code",
   "execution_count": 4,
   "metadata": {},
   "outputs": [],
   "source": [
    "import copy as cp\n",
    "import pandas as pd\n",
    "import numpy as np\n",
    "import matplotlib.pyplot as plt\n",
    "import seaborn as sns\n",
    "sns.set(style=\"white\", palette=\"muted\", color_codes=True)\n",
    "sns.set_context(\"poster\")"
   ]
  },
  {
   "cell_type": "code",
   "execution_count": 5,
   "metadata": {},
   "outputs": [
    {
     "data": {
      "image/png": "[encoded data removed]",
      "text/plain": [
       "<Figure size 432x288 with 1 Axes>"
      ]
     },
     "metadata": {},
     "output_type": "display_data"
    }
   ],
   "source": [
    "Natural = np.random.exponential(scale=1, size=1000)\n",
    "Highfit = np.random.normal(scale=1, size=1000)\n",
    "Lowfit = np.random.poisson(size=1000)\n",
    "# mut_effect = np.interp(Highfit, (Highfit.min(), Highfit.max()), (-1, 1))\n",
    "mut_effect = np.interp(Natural, (Natural.min(), Natural.max()), (-1, 1))\n",
    "# mut_effect = np.interp(Lowfit, (Lowfit.min(), Lowfit.max()), (-1, 1))\n",
    "plot=plt.hist(mut_effect, bins='auto')\n",
    "# only one of the mut_effects can be active, depending on the problem you are facing, we provided three."
   ]
  },
  {
   "cell_type": "code",
   "execution_count": 20,
   "metadata": {},
   "outputs": [],
   "source": [
    "def get_mut_num():\n",
    "    return np.random.poisson(U)\n",
    "def mutate():\n",
    "    mut_num = get_mut_num()\n",
    "    if mut_num > 0 or w > 0:\n",
    "        for i in range(mut_num):\n",
    "            s = np.random.choice(mut_effect)\n",
    "                if s == -1.:\n",
    "                    self.w = 0.0\n",
    "            w += s\n",
    "            return w\n",
    "    return w"
   ]
  },
  {
   "cell_type": "code",
   "execution_count": 6,
   "metadata": {},
   "outputs": [],
   "source": [
    "class WrightFisher(object):\n",
    "\n",
    "    def __init__(self, N, U):\n",
    "        self.pop_size = N\n",
    "        self.mut_rate = U # can this be integrated in the Genotype class as self.U?\n",
    "        self.population = []\n",
    "        for j in range(self.pop_size):\n",
    "            self.population.append((Genotype(self.mut_rate,j)))\n",
    "\n",
    "    @property\n",
    "    def w_pop(self):\n",
    "        return [i.w for i in self.population]\n",
    "\n",
    "    @property\n",
    "    def gen_freq(self):\n",
    "        allel_freq={}\n",
    "        ind_freq=[i.index for i in self.population]\n",
    "        for i in range (self.pop_size):\n",
    "            allel_freq[i]=ind_freq.count(i)\n",
    "        return allel_freq\n",
    "    \n",
    "    @property\n",
    "    def fixation_time(self):\n",
    "        pass\n",
    "\n",
    "    def plot_w_dist(self):\n",
    "        plt.hist(self.w_pop)\n",
    "\n",
    "    def get_next_gen(self):\n",
    "        current_gen_parents = copy.deepcopy(self.population)\n",
    "        for i in current_gen_parents:\n",
    "            i.mutate()\n",
    "        next_gen_offspring = copy.deepcopy(current_gen_parents)\n",
    "        cum_fitness = np.cumsum([i.w for i in next_gen_offspring])\n",
    "        rand_array = np.random.random_sample(self.pop_size)\n",
    "        mult_rand_array = np.multiply(rand_array, cum_fitness[self.pop_size - 1])\n",
    "        indices = np.searchsorted(cum_fitness, mult_rand_array)\n",
    "        next_generation = []\n",
    "        for i in range(self.pop_size):\n",
    "            next_generation.append(next_gen_offspring[indices[i]])\n",
    "        self.population = copy.deepcopy(next_generation)\n",
    "\n",
    "    def sim(self,gen):\n",
    "        self.w_t_series = []\n",
    "        self.gen_t_series = {}\n",
    "        for i in range(gen):\n",
    "            self.gen_t_series[i] = self.gen_freq\n",
    "            self.get_next_gen()\n",
    "            self.w_t_series.append(np.mean(self.w_pop))"
   ]
  }
 ],
 "metadata": {
  "kernelspec": {
   "display_name": "Python 3",
   "language": "python",
   "name": "python3"
  },
  "language_info": {
   "codemirror_mode": {
    "name": "ipython",
    "version": 3
   },
   "file_extension": ".py",
   "mimetype": "text/x-python",
   "name": "python",
   "nbconvert_exporter": "python",
   "pygments_lexer": "ipython3",
   "version": "3.7.1"
  }
 },
 "nbformat": 4,
 "nbformat_minor": 2
}
